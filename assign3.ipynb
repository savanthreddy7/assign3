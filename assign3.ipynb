{
  "nbformat": 4,
  "nbformat_minor": 0,
  "metadata": {
    "colab": {
      "provenance": [],
      "authorship_tag": "ABX9TyM7jMU7+U7oPCYGdFJ6PW6G",
      "include_colab_link": true
    },
    "kernelspec": {
      "name": "python3",
      "display_name": "Python 3"
    },
    "language_info": {
      "name": "python"
    }
  },
  "cells": [
    {
      "cell_type": "markdown",
      "metadata": {
        "id": "view-in-github",
        "colab_type": "text"
      },
      "source": [
        "<a href=\"https://colab.research.google.com/github/savanthreddy7/assign3/blob/main/assign3.ipynb\" target=\"_parent\"><img src=\"https://colab.research.google.com/assets/colab-badge.svg\" alt=\"Open In Colab\"/></a>"
      ]
    },
    {
      "cell_type": "code",
      "execution_count": 1,
      "metadata": {
        "colab": {
          "base_uri": "https://localhost:8080/"
        },
        "id": "1iUEsRVFO4eH",
        "outputId": "a72d6d39-c114-4c8a-ee37-96ea0ff282dd"
      },
      "outputs": [
        {
          "output_type": "stream",
          "name": "stdout",
          "text": [
            "Average Salary for John Doe and Jane Smith: 55000.0\n",
            "Average Salary for Alice Johnson: 80000.0\n",
            "Total number of employees: 3\n"
          ]
        }
      ],
      "source": [
        "class Employee:\n",
        "    # Class variable to count the number of employees\n",
        "    employee_count = 0\n",
        "\n",
        "    def __init__(self, name, family, salary, department):\n",
        "        # Instance variables\n",
        "        self.name = name\n",
        "        self.family = family\n",
        "        self.salary = salary\n",
        "        self.department = department\n",
        "\n",
        "        # Increment the employee count\n",
        "        Employee.employee_count += 1\n",
        "\n",
        "    def average_salary(self, *salaries):\n",
        "        total_salary = sum(salaries) + self.salary\n",
        "        average = total_salary / (len(salaries) + 1)  # +1 to include the current instance's salary\n",
        "        return average\n",
        "\n",
        "\n",
        "class FulltimeEmployee(Employee):\n",
        "    def __init__(self, name, family, salary, department, bonus):\n",
        "        # Call the constructor of the base class (Employee)\n",
        "        super().__init__(name, family, salary, department)\n",
        "\n",
        "        # Instance variable specific to FulltimeEmployee\n",
        "        self.bonus = bonus\n",
        "\n",
        "\n",
        "# Create instances of Employee and FulltimeEmployee\n",
        "employee1 = Employee(\"John Doe\", \"Doe Family\", 50000, \"HR\")\n",
        "employee2 = Employee(\"Jane Smith\", \"Smith Family\", 60000, \"IT\")\n",
        "\n",
        "fulltime_employee = FulltimeEmployee(\"Alice Johnson\", \"Johnson Family\", 80000, \"Marketing\", 10000)\n",
        "\n",
        "# Call member functions\n",
        "average_salary_result = employee1.average_salary(employee2.salary)\n",
        "print(f\"Average Salary for {employee1.name} and {employee2.name}: {average_salary_result}\")\n",
        "\n",
        "average_salary_result_fulltime = fulltime_employee.average_salary()\n",
        "print(f\"Average Salary for {fulltime_employee.name}: {average_salary_result_fulltime}\")\n",
        "\n",
        "# Print the total number of employees\n",
        "print(f\"Total number of employees: {Employee.employee_count}\")\n"
      ]
    },
    {
      "cell_type": "code",
      "source": [
        "import numpy as np\n",
        "\n",
        "# Create a random vector of size 20 with float values in the range 1-20\n",
        "random_vector = np.random.uniform(1, 20, size=20)\n",
        "\n",
        "# Reshape the array to a 4 by 5 matrix\n",
        "reshaped_array = random_vector.reshape(4, 5)\n",
        "\n",
        "# Replace the max in each row with 0 (along axis=1)\n",
        "reshaped_array[np.arange(reshaped_array.shape[0]), np.argmax(reshaped_array, axis=1)] = 0\n",
        "\n",
        "# Print the original array, reshaped array, and the result after replacement\n",
        "print(\"Original Vector:\")\n",
        "print(random_vector)\n",
        "print(\"\\nReshaped Array (4 by 5):\")\n",
        "print(reshaped_array)\n"
      ],
      "metadata": {
        "colab": {
          "base_uri": "https://localhost:8080/"
        },
        "id": "ae7-qYllPBY6",
        "outputId": "10788f6f-fa72-48d8-f67e-72e6f1b130a7"
      },
      "execution_count": 2,
      "outputs": [
        {
          "output_type": "stream",
          "name": "stdout",
          "text": [
            "Original Vector:\n",
            "[ 9.25767637  0.          5.99705687  2.43148826  9.65479258  3.038985\n",
            "  1.68432804  3.16917627  0.          7.72742013  2.11815028  3.31233247\n",
            "  4.25030324  0.         14.05049572  5.15418273  9.83118137  6.78239788\n",
            "  0.          9.79160286]\n",
            "\n",
            "Reshaped Array (4 by 5):\n",
            "[[ 9.25767637  0.          5.99705687  2.43148826  9.65479258]\n",
            " [ 3.038985    1.68432804  3.16917627  0.          7.72742013]\n",
            " [ 2.11815028  3.31233247  4.25030324  0.         14.05049572]\n",
            " [ 5.15418273  9.83118137  6.78239788  0.          9.79160286]]\n"
          ]
        }
      ]
    }
  ]
}